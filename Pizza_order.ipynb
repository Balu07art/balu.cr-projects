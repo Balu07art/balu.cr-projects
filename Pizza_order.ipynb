{
  "nbformat": 4,
  "nbformat_minor": 0,
  "metadata": {
    "colab": {
      "provenance": [],
      "name": "Pizza order.ipynb",
      "authorship_tag": "ABX9TyNKGH8NB3DJbXY2uiTrKFYD",
      "include_colab_link": true
    },
    "kernelspec": {
      "name": "python3",
      "display_name": "Python 3"
    },
    "language_info": {
      "name": "python"
    }
  },
  "cells": [
    {
      "cell_type": "markdown",
      "metadata": {
        "id": "view-in-github",
        "colab_type": "text"
      },
      "source": [
        "<a href=\"https://colab.research.google.com/github/Balu07art/balu.cr-prework/blob/main/Pizza_order.ipynb\" target=\"_parent\"><img src=\"https://colab.research.google.com/assets/colab-badge.svg\" alt=\"Open In Colab\"/></a>"
      ]
    },
    {
      "cell_type": "code",
      "source": [],
      "metadata": {
        "id": "6t7748hxMLx6"
      },
      "execution_count": null,
      "outputs": []
    },
    {
      "cell_type": "code",
      "execution_count": 1,
      "metadata": {
        "colab": {
          "base_uri": "https://localhost:8080/"
        },
        "id": "H6ePjbnbJ4Bu",
        "outputId": "d1384e7f-45c6-4848-9fbb-522250f55fe3"
      },
      "outputs": [
        {
          "output_type": "stream",
          "name": "stdout",
          "text": [
            "welcome to the pizza place \n",
            "Menu:\n",
            "1. Margherita \n",
            "2. Pepperoni\n",
            "3. Veggie \n",
            "Enter your choice:1\n",
            "you selected: Margherita \n",
            "order confirmed!\n"
          ]
        }
      ],
      "source": [
        "import random\n",
        "\n",
        "def get_user_choice(options):\n",
        "    \"\"\"\n",
        "    Gets user input and validates it against provide options.\n",
        "    Args:\n",
        "        options:A list of valid options.\n",
        "    Returns:\n",
        "        The user's valid choice.\n",
        "    \"\"\"\n",
        "    while True:\n",
        "        user_input = input(\"Enter your choice:\").lower()\n",
        "        if user_input in options:\n",
        "            return user_input\n",
        "        else:\n",
        "            print(f\" invalid choice. please select from: {','.join(options)}\") # Fixed: options instead of option s\n",
        "\n",
        "def order_pizza():\n",
        "    \"\"\"\n",
        "    Handles the pizza ordering process.\n",
        "    \"\"\"\n",
        "    print(\"welcome to the pizza place \")\n",
        "    print(\"Menu:\")\n",
        "    print(\"1. Margherita \")\n",
        "    print(\"2. Pepperoni\")\n",
        "    print(\"3. Veggie \")\n",
        "    pizza_choices = [\"1\", \"2\", \"3\"] # Fixed: removed extra space\n",
        "    pizza_choice = get_user_choice(pizza_choices) # Fixed: removed extra space, assigned to pizza_choice\n",
        "    if pizza_choice == \"1\":\n",
        "        pizza = \"Margherita \"\n",
        "    elif pizza_choice == \"2\":\n",
        "        pizza = \"Pepperoni\"\n",
        "    else:\n",
        "        pizza = \"Veggie\" # Fixed: changed Pizza to pizza\n",
        "    print(f\"you selected: {pizza}\")\n",
        "    # Optional: Add more customisation options (size, topping, etc.)\n",
        "    print(\"order confirmed!\")\n",
        "\n",
        "if __name__ == \"__main__\":\n",
        "    order_pizza()"
      ]
    }
  ]
}