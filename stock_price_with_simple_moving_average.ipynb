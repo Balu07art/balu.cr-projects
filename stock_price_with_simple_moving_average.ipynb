{
  "nbformat": 4,
  "nbformat_minor": 0,
  "metadata": {
    "colab": {
      "provenance": [],
      "authorship_tag": "ABX9TyPYoG613UMfw9Niw9Bm7PHB",
      "include_colab_link": true
    },
    "kernelspec": {
      "name": "python3",
      "display_name": "Python 3"
    },
    "language_info": {
      "name": "python"
    }
  },
  "cells": [
    {
      "cell_type": "markdown",
      "metadata": {
        "id": "view-in-github",
        "colab_type": "text"
      },
      "source": [
        "<a href=\"https://colab.research.google.com/github/Balu07art/balu.cr-projects/blob/main/stock_price_with_simple_moving_average.ipynb\" target=\"_parent\"><img src=\"https://colab.research.google.com/assets/colab-badge.svg\" alt=\"Open In Colab\"/></a>"
      ]
    },
    {
      "cell_type": "code",
      "execution_count": null,
      "metadata": {
        "id": "to9-1SgwmB6j"
      },
      "outputs": [],
      "source": [
        "import pandas as pd\n",
        "import matplotlib.pyplot as plt\n",
        "\n",
        "def calculate_sma(data, window_size):\n",
        "    \"\"\" calculates the simple moving ave(SMA).\"\"\"\n",
        "    sma = data.rolling(window=window_size).mean() # Indented this line\n",
        "    return sma\n",
        "\n",
        "def plot_stock_data(data, sma, window_size): # Fixed function name and added window_size\n",
        "    \"\"\" plots the stock price and the SMA.\"\"\"\n",
        "    plt.figure(figsize=(12, 6))\n",
        "    plt.plot(data, label='Stock Price') # Added label for stock price\n",
        "    plt.plot(sma, label=f'SMA ({window_size})') # Added SMA plot and fixed label\n",
        "    plt.xlabel('Time')\n",
        "    plt.ylabel('price')\n",
        "    plt.title('stock price with simple moving average')\n",
        "    plt.legend()\n",
        "    plt.show()\n",
        "\n",
        "# example usage (replace with actual stock price data)\n",
        "if __name__ == \"__main__\":\n",
        "    # sample data (replace with actual stock price data)\n",
        "    # Assuming 'data' is a pandas series with dates as index and prices as values\n",
        "    data = pd.Series([10, 12, 15, 13, 18, 20, 17, 22, 25, 24],\n",
        "                     index=pd.date_range('2024-01-01', periods=10))\n",
        "    window_size = 3  # calculate SMA over 3 days\n",
        "    sma = calculate_sma(data, window_size)\n",
        "    plot_stock_data(data, sma, window_size) # Pass window_size to plot_stock_data"
      ]
    }
  ]
}