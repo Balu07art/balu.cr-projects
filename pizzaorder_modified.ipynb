{
  "nbformat": 4,
  "nbformat_minor": 0,
  "metadata": {
    "colab": {
      "provenance": [],
      "authorship_tag": "ABX9TyMMCMH6ffk8b4mZqXtgnioF",
      "include_colab_link": true
    },
    "kernelspec": {
      "name": "python3",
      "display_name": "Python 3"
    },
    "language_info": {
      "name": "python"
    }
  },
  "cells": [
    {
      "cell_type": "markdown",
      "metadata": {
        "id": "view-in-github",
        "colab_type": "text"
      },
      "source": [
        "<a href=\"https://colab.research.google.com/github/Balu07art/balu.cr-projects/blob/main/pizzaorder_modified.ipynb\" target=\"_parent\"><img src=\"https://colab.research.google.com/assets/colab-badge.svg\" alt=\"Open In Colab\"/></a>"
      ]
    },
    {
      "cell_type": "code",
      "execution_count": 4,
      "metadata": {
        "colab": {
          "base_uri": "https://localhost:8080/"
        },
        "id": "7RgmfPuQT2kp",
        "outputId": "867ad1f0-c446-40a6-be6c-7164d9648aeb"
      },
      "outputs": [
        {
          "output_type": "stream",
          "name": "stdout",
          "text": [
            "\n",
            "--- Welcome to the Pizza Ordering System ---\n",
            "1. View Menu\n",
            "2. Account Details\n",
            "3. Orders\n",
            "4. Exit\n",
            "Enter your choice: 4\n",
            "Thank you for using the Pizza Ordering System. Visit Again!\n"
          ]
        }
      ],
      "source": [
        "import random\n",
        "\n",
        "# --- Helper Function ---\n",
        "def get_user_choice(options):\n",
        "    \"\"\"\n",
        "    Gets user input and validates it against provided options.\n",
        "    Args:\n",
        "        options: A list of valid options.\n",
        "    Returns:\n",
        "        The user's valid choice.\n",
        "    \"\"\"\n",
        "    while True:\n",
        "        user_input = input(\"Enter your choice: \").lower()\n",
        "        if user_input in options:\n",
        "            return user_input\n",
        "        else:\n",
        "            print(f\"Invalid choice. Please select from: {', '.join(options)}\")\n",
        "\n",
        "# --- Dashboard ---\n",
        "def dashboard():\n",
        "    \"\"\"\n",
        "    Displays the main dashboard with options.\n",
        "    \"\"\"\n",
        "    print(\"\\n--- Welcome to the Pizza Ordering System ---\")\n",
        "    print(\"1. View Menu\")\n",
        "    print(\"2. Account Details\")\n",
        "    print(\"3. Orders\")\n",
        "    print(\"4. Exit\")\n",
        "    choice = get_user_choice([\"1\", \"2\", \"3\", \"4\"])\n",
        "    return choice\n",
        "\n",
        "# --- Menu ---\n",
        "def view_menu():\n",
        "    \"\"\"\n",
        "    Displays the menu and allows the user to order.\n",
        "    \"\"\"\n",
        "    print(\"\\n--- Menu ---\")\n",
        "    menu_items = {\n",
        "        \"1\": \"Margherita\",\n",
        "        \"2\": \"Pepperoni\",\n",
        "        \"3\": \"Veggie\",\n",
        "        \"4\": \"BBQ Chicken\"\n",
        "    }\n",
        "    for key, value in menu_items.items():\n",
        "        print(f\"{key}. {value}\")\n",
        "\n",
        "    print(\"\\nPlace an order by selecting the pizza number.\")\n",
        "    pizza_choice = get_user_choice(menu_items.keys())\n",
        "    print(f\"You selected: {menu_items[pizza_choice]}\")\n",
        "    # Customization options\n",
        "    size = get_user_choice([\"small\", \"medium\", \"large\"])\n",
        "    print(f\"Size: {size.capitalize()}\")\n",
        "    print(\"Order confirmed!\\n\")\n",
        "\n",
        "# --- Account Details ---\n",
        "def account_details():\n",
        "    \"\"\"\n",
        "    Displays random account details.\n",
        "    \"\"\"\n",
        "    print(\"\\n--- Account Details ---\")\n",
        "\n",
        "    # List of random names\n",
        "    random_names = [\"Roy\", \"S S rajamouli\", \"Dhoni\", \"jay shah\", \"virat kohli\"]\n",
        "\n",
        "    # Randomly pick a name\n",
        "    user_name = random.choice(random_names)\n",
        "\n",
        "    # Generate random user ID\n",
        "    user_id = random.randint(1000, 10000)\n",
        "\n",
        "    # Random membership status\n",
        "    membership_status = random.choice([\"Standard\", \"Premium\", \"Gold\"])\n",
        "\n",
        "    print(f\"Name: {user_name}\")\n",
        "    print(f\"User ID: {user_id}\")\n",
        "    print(f\"Membership Status: {membership_status}\\n\")\n",
        "\n",
        "\n",
        "# --- Orders ---\n",
        "def view_orders():\n",
        "    \"\"\"\n",
        "    Displays past and current orders.\n",
        "    \"\"\"\n",
        "    print(\"\\n--- Orders ---\")\n",
        "    orders = [\n",
        "        {\"id\": 101, \"item\": \"Margherita\", \"size\": \"Large\"},\n",
        "        {\"id\": 102, \"item\": \"Veggie\", \"size\": \"Medium\"}\n",
        "    ]\n",
        "    if orders:\n",
        "        for order in orders:\n",
        "            print(f\"Order ID: {order['id']}, Item: {order['item']}, Size: {order['size']}\")\n",
        "    else:\n",
        "        print(\"No orders found.\\n\")\n",
        "\n",
        "# --- Main Program ---\n",
        "if __name__ == \"__main__\":\n",
        "    while True:\n",
        "        user_choice = dashboard()\n",
        "        if user_choice == \"1\":\n",
        "            view_menu()\n",
        "        elif user_choice == \"2\":\n",
        "            account_details()\n",
        "        elif user_choice == \"3\":\n",
        "            view_orders()\n",
        "        elif user_choice == \"4\":\n",
        "            print(\"Thank you for using the Pizza Ordering System. Visit Again!\")\n",
        "            break\n"
      ]
    }
  ]
}